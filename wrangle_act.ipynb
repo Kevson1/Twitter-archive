{
 "cells": [
  {
   "cell_type": "markdown",
   "id": "2161d853",
   "metadata": {},
   "source": [
    "## import the required libraries."
   ]
  },
  {
   "cell_type": "code",
   "execution_count": 1,
   "id": "86a41fc1",
   "metadata": {},
   "outputs": [],
   "source": [
    "import configparser\n",
    "import pandas as pd\n",
    "import numpy as np\n",
    "import requests\n",
    "import tweepy\n",
    "import json\n",
    "import os\n",
    "import re\n",
    "\n",
    "from bs4 import BeautifulSoup"
   ]
  },
  {
   "cell_type": "markdown",
   "id": "f2cbeaae",
   "metadata": {},
   "source": [
    "# Data Gathering"
   ]
  },
  {
   "cell_type": "markdown",
   "id": "cb5a084d",
   "metadata": {},
   "source": [
    "## Load the `twitter archive enhanced csv` file into the pandas dataframe"
   ]
  },
  {
   "cell_type": "code",
   "execution_count": 2,
   "id": "4a095b29",
   "metadata": {},
   "outputs": [],
   "source": [
    "Dog_tweets_df = pd.read_csv('Datasets/twitter-archive-enhanced.csv')"
   ]
  },
  {
   "cell_type": "markdown",
   "id": "8dd3d0b1",
   "metadata": {},
   "source": [
    "## Download the tweet image predictions"
   ]
  },
  {
   "cell_type": "code",
   "execution_count": 3,
   "id": "60396fa0",
   "metadata": {},
   "outputs": [],
   "source": [
    "# # Check the if the required folder exists. If it does not exist, create it\n",
    "# folder_name = 'Datasets'\n",
    "# if not os.path.exists (folder_name):\n",
    "#     os.makedirs(folder_name)\n",
    "\n",
    "# # Use the request.get method to get access the data from the server.\n",
    "# url = 'https://d17h27t6h515a5.cloudfront.net/topher/2017/August/599fd2ad_image-predictions/image-predictions.tsv'\n",
    "# response = requests.get(url)\n",
    "\n",
    "# # Save the responses in a .tsv file\n",
    "# with open (os.path.join(folder_name,url.split('/')[-1]), mode = 'wb') as file:\n",
    "#     file.write(response.content)"
   ]
  },
  {
   "cell_type": "markdown",
   "id": "332d23f2",
   "metadata": {},
   "source": [
    "### Load the Image prediction file into the pandas dataframe"
   ]
  },
  {
   "cell_type": "code",
   "execution_count": 4,
   "id": "5ef1a689",
   "metadata": {},
   "outputs": [],
   "source": [
    "image_prediction_df = pd.read_csv('Datasets/image-predictions.tsv', sep='\\t')"
   ]
  },
  {
   "cell_type": "markdown",
   "id": "c596829b",
   "metadata": {},
   "source": [
    "## Get additional data from the Twitter API"
   ]
  },
  {
   "cell_type": "code",
   "execution_count": 5,
   "id": "71f566d3",
   "metadata": {},
   "outputs": [],
   "source": [
    "# Read the configurations\n",
    "config = configparser.ConfigParser()\n",
    "config.read('config.ini')\n",
    "\n",
    "api_key = config['twitter']['api_key']\n",
    "api_key_secret = config['twitter']['api_key_secret']\n",
    "\n",
    "access_token = config['twitter']['access_token']\n",
    "access_token_secret = config['twitter']['access_token_secret']"
   ]
  },
  {
   "cell_type": "code",
   "execution_count": 6,
   "id": "d3d394a3",
   "metadata": {},
   "outputs": [],
   "source": [
    "# Authentication\n",
    "auth = tweepy.OAuthHandler(api_key, api_key_secret)\n",
    "auth.set_access_token(access_token, access_token_secret)\n",
    "\n",
    "api = tweepy.API(auth, wait_on_rate_limit=True)"
   ]
  },
  {
   "cell_type": "code",
   "execution_count": 7,
   "id": "8218f19a",
   "metadata": {},
   "outputs": [],
   "source": [
    "# # Extract all the tweet IDs in the WeRateDogs Twitter archive and save them in a python list.\n",
    "# tweet_response_counts = []\n",
    "# for tweet_id in Dog_tweets_df.tweet_id:\n",
    "#     try:\n",
    "#         tweet_info = api.get_status(tweet_id, tweet_mode='extended')\n",
    "#     except Exception:\n",
    "#         pass\n",
    "#     finally:\n",
    "#         tweet_id = tweet_info.id\n",
    "#         retweet_count = tweet_info.retweet_count\n",
    "#         favorite_count = tweet_info.favorite_count\n",
    "        \n",
    "#         tweet_response_counts.append({'tweet_id':tweet_id,\n",
    "#                                       'retweet_count':retweet_count,\n",
    "#                                       'favorite_count':favorite_count})\n",
    "#         print(tweet_id)\n",
    "# counts_df = pd.DataFrame(tweet_response_counts, columns = ['tweet_id', 'retweet_count', 'favorite_count'])"
   ]
  },
  {
   "cell_type": "code",
   "execution_count": 8,
   "id": "1b69733a",
   "metadata": {},
   "outputs": [],
   "source": [
    "# count = 0\n",
    "# fails_dict = {}\n",
    "# start = timer()\n",
    "# # Save each tweet's returned JSON as a new line in a .txt file\n",
    "# with open('tweet_json.txt', 'w') as outfile:\n",
    "#     # This loop will likely take 20-30 minutes to run because of Twitter's rate limit\n",
    "#     for tweet_id in tweet_ids:\n",
    "#         count += 1\n",
    "#         print(str(count) + \": \" + str(tweet_id))\n",
    "#         try:\n",
    "#             tweet = api.get_status(tweet_id, tweet_mode='extended')\n",
    "#             print(\"Success\")\n",
    "#             json.dump(tweet._json, outfile)\n",
    "#             outfile.write('\\n')\n",
    "#         except tweepy.TweepError as e:\n",
    "#             print(\"Fail\")\n",
    "#             fails_dict[tweet_id] = e\n",
    "#             pass\n",
    "# end = timer()\n",
    "# print(end - start)\n",
    "# print(fails_dict)"
   ]
  },
  {
   "cell_type": "code",
   "execution_count": 9,
   "id": "458f0a3a",
   "metadata": {},
   "outputs": [],
   "source": [
    "# counts_df.to_csv('Datasets/reaction_counts.csv', index=False)"
   ]
  },
  {
   "cell_type": "markdown",
   "id": "c5eedfa1",
   "metadata": {},
   "source": [
    "### Load the dataframe into the pandas dataframe"
   ]
  },
  {
   "cell_type": "code",
   "execution_count": 10,
   "id": "3f90a4ea",
   "metadata": {},
   "outputs": [],
   "source": [
    "reaction_counts_df = pd.read_csv('Datasets/reaction_counts.csv')"
   ]
  },
  {
   "cell_type": "markdown",
   "id": "c3b90706",
   "metadata": {},
   "source": [
    "# Assessing Data"
   ]
  },
  {
   "cell_type": "markdown",
   "id": "7ccde6d8",
   "metadata": {},
   "source": [
    "## 1. Assessing the Dog_tweet dataframe"
   ]
  },
  {
   "cell_type": "code",
   "execution_count": 11,
   "id": "5122e0b1",
   "metadata": {},
   "outputs": [
    {
     "data": {
      "text/html": [
       "<div>\n",
       "<style scoped>\n",
       "    .dataframe tbody tr th:only-of-type {\n",
       "        vertical-align: middle;\n",
       "    }\n",
       "\n",
       "    .dataframe tbody tr th {\n",
       "        vertical-align: top;\n",
       "    }\n",
       "\n",
       "    .dataframe thead th {\n",
       "        text-align: right;\n",
       "    }\n",
       "</style>\n",
       "<table border=\"1\" class=\"dataframe\">\n",
       "  <thead>\n",
       "    <tr style=\"text-align: right;\">\n",
       "      <th></th>\n",
       "      <th>tweet_id</th>\n",
       "      <th>in_reply_to_status_id</th>\n",
       "      <th>in_reply_to_user_id</th>\n",
       "      <th>timestamp</th>\n",
       "      <th>source</th>\n",
       "      <th>text</th>\n",
       "      <th>retweeted_status_id</th>\n",
       "      <th>retweeted_status_user_id</th>\n",
       "      <th>retweeted_status_timestamp</th>\n",
       "      <th>expanded_urls</th>\n",
       "      <th>rating_numerator</th>\n",
       "      <th>rating_denominator</th>\n",
       "      <th>name</th>\n",
       "      <th>doggo</th>\n",
       "      <th>floofer</th>\n",
       "      <th>pupper</th>\n",
       "      <th>puppo</th>\n",
       "    </tr>\n",
       "  </thead>\n",
       "  <tbody>\n",
       "    <tr>\n",
       "      <th>0</th>\n",
       "      <td>892420643555336193</td>\n",
       "      <td>NaN</td>\n",
       "      <td>NaN</td>\n",
       "      <td>2017-08-01 16:23:56 +0000</td>\n",
       "      <td>&lt;a href=\"http://twitter.com/download/iphone\" r...</td>\n",
       "      <td>This is Phineas. He's a mystical boy. Only eve...</td>\n",
       "      <td>NaN</td>\n",
       "      <td>NaN</td>\n",
       "      <td>NaN</td>\n",
       "      <td>https://twitter.com/dog_rates/status/892420643...</td>\n",
       "      <td>13</td>\n",
       "      <td>10</td>\n",
       "      <td>Phineas</td>\n",
       "      <td>None</td>\n",
       "      <td>None</td>\n",
       "      <td>None</td>\n",
       "      <td>None</td>\n",
       "    </tr>\n",
       "    <tr>\n",
       "      <th>1</th>\n",
       "      <td>892177421306343426</td>\n",
       "      <td>NaN</td>\n",
       "      <td>NaN</td>\n",
       "      <td>2017-08-01 00:17:27 +0000</td>\n",
       "      <td>&lt;a href=\"http://twitter.com/download/iphone\" r...</td>\n",
       "      <td>This is Tilly. She's just checking pup on you....</td>\n",
       "      <td>NaN</td>\n",
       "      <td>NaN</td>\n",
       "      <td>NaN</td>\n",
       "      <td>https://twitter.com/dog_rates/status/892177421...</td>\n",
       "      <td>13</td>\n",
       "      <td>10</td>\n",
       "      <td>Tilly</td>\n",
       "      <td>None</td>\n",
       "      <td>None</td>\n",
       "      <td>None</td>\n",
       "      <td>None</td>\n",
       "    </tr>\n",
       "    <tr>\n",
       "      <th>2</th>\n",
       "      <td>891815181378084864</td>\n",
       "      <td>NaN</td>\n",
       "      <td>NaN</td>\n",
       "      <td>2017-07-31 00:18:03 +0000</td>\n",
       "      <td>&lt;a href=\"http://twitter.com/download/iphone\" r...</td>\n",
       "      <td>This is Archie. He is a rare Norwegian Pouncin...</td>\n",
       "      <td>NaN</td>\n",
       "      <td>NaN</td>\n",
       "      <td>NaN</td>\n",
       "      <td>https://twitter.com/dog_rates/status/891815181...</td>\n",
       "      <td>12</td>\n",
       "      <td>10</td>\n",
       "      <td>Archie</td>\n",
       "      <td>None</td>\n",
       "      <td>None</td>\n",
       "      <td>None</td>\n",
       "      <td>None</td>\n",
       "    </tr>\n",
       "    <tr>\n",
       "      <th>3</th>\n",
       "      <td>891689557279858688</td>\n",
       "      <td>NaN</td>\n",
       "      <td>NaN</td>\n",
       "      <td>2017-07-30 15:58:51 +0000</td>\n",
       "      <td>&lt;a href=\"http://twitter.com/download/iphone\" r...</td>\n",
       "      <td>This is Darla. She commenced a snooze mid meal...</td>\n",
       "      <td>NaN</td>\n",
       "      <td>NaN</td>\n",
       "      <td>NaN</td>\n",
       "      <td>https://twitter.com/dog_rates/status/891689557...</td>\n",
       "      <td>13</td>\n",
       "      <td>10</td>\n",
       "      <td>Darla</td>\n",
       "      <td>None</td>\n",
       "      <td>None</td>\n",
       "      <td>None</td>\n",
       "      <td>None</td>\n",
       "    </tr>\n",
       "    <tr>\n",
       "      <th>4</th>\n",
       "      <td>891327558926688256</td>\n",
       "      <td>NaN</td>\n",
       "      <td>NaN</td>\n",
       "      <td>2017-07-29 16:00:24 +0000</td>\n",
       "      <td>&lt;a href=\"http://twitter.com/download/iphone\" r...</td>\n",
       "      <td>This is Franklin. He would like you to stop ca...</td>\n",
       "      <td>NaN</td>\n",
       "      <td>NaN</td>\n",
       "      <td>NaN</td>\n",
       "      <td>https://twitter.com/dog_rates/status/891327558...</td>\n",
       "      <td>12</td>\n",
       "      <td>10</td>\n",
       "      <td>Franklin</td>\n",
       "      <td>None</td>\n",
       "      <td>None</td>\n",
       "      <td>None</td>\n",
       "      <td>None</td>\n",
       "    </tr>\n",
       "    <tr>\n",
       "      <th>...</th>\n",
       "      <td>...</td>\n",
       "      <td>...</td>\n",
       "      <td>...</td>\n",
       "      <td>...</td>\n",
       "      <td>...</td>\n",
       "      <td>...</td>\n",
       "      <td>...</td>\n",
       "      <td>...</td>\n",
       "      <td>...</td>\n",
       "      <td>...</td>\n",
       "      <td>...</td>\n",
       "      <td>...</td>\n",
       "      <td>...</td>\n",
       "      <td>...</td>\n",
       "      <td>...</td>\n",
       "      <td>...</td>\n",
       "      <td>...</td>\n",
       "    </tr>\n",
       "    <tr>\n",
       "      <th>2351</th>\n",
       "      <td>666049248165822465</td>\n",
       "      <td>NaN</td>\n",
       "      <td>NaN</td>\n",
       "      <td>2015-11-16 00:24:50 +0000</td>\n",
       "      <td>&lt;a href=\"http://twitter.com/download/iphone\" r...</td>\n",
       "      <td>Here we have a 1949 1st generation vulpix. Enj...</td>\n",
       "      <td>NaN</td>\n",
       "      <td>NaN</td>\n",
       "      <td>NaN</td>\n",
       "      <td>https://twitter.com/dog_rates/status/666049248...</td>\n",
       "      <td>5</td>\n",
       "      <td>10</td>\n",
       "      <td>None</td>\n",
       "      <td>None</td>\n",
       "      <td>None</td>\n",
       "      <td>None</td>\n",
       "      <td>None</td>\n",
       "    </tr>\n",
       "    <tr>\n",
       "      <th>2352</th>\n",
       "      <td>666044226329800704</td>\n",
       "      <td>NaN</td>\n",
       "      <td>NaN</td>\n",
       "      <td>2015-11-16 00:04:52 +0000</td>\n",
       "      <td>&lt;a href=\"http://twitter.com/download/iphone\" r...</td>\n",
       "      <td>This is a purebred Piers Morgan. Loves to Netf...</td>\n",
       "      <td>NaN</td>\n",
       "      <td>NaN</td>\n",
       "      <td>NaN</td>\n",
       "      <td>https://twitter.com/dog_rates/status/666044226...</td>\n",
       "      <td>6</td>\n",
       "      <td>10</td>\n",
       "      <td>a</td>\n",
       "      <td>None</td>\n",
       "      <td>None</td>\n",
       "      <td>None</td>\n",
       "      <td>None</td>\n",
       "    </tr>\n",
       "    <tr>\n",
       "      <th>2353</th>\n",
       "      <td>666033412701032449</td>\n",
       "      <td>NaN</td>\n",
       "      <td>NaN</td>\n",
       "      <td>2015-11-15 23:21:54 +0000</td>\n",
       "      <td>&lt;a href=\"http://twitter.com/download/iphone\" r...</td>\n",
       "      <td>Here is a very happy pup. Big fan of well-main...</td>\n",
       "      <td>NaN</td>\n",
       "      <td>NaN</td>\n",
       "      <td>NaN</td>\n",
       "      <td>https://twitter.com/dog_rates/status/666033412...</td>\n",
       "      <td>9</td>\n",
       "      <td>10</td>\n",
       "      <td>a</td>\n",
       "      <td>None</td>\n",
       "      <td>None</td>\n",
       "      <td>None</td>\n",
       "      <td>None</td>\n",
       "    </tr>\n",
       "    <tr>\n",
       "      <th>2354</th>\n",
       "      <td>666029285002620928</td>\n",
       "      <td>NaN</td>\n",
       "      <td>NaN</td>\n",
       "      <td>2015-11-15 23:05:30 +0000</td>\n",
       "      <td>&lt;a href=\"http://twitter.com/download/iphone\" r...</td>\n",
       "      <td>This is a western brown Mitsubishi terrier. Up...</td>\n",
       "      <td>NaN</td>\n",
       "      <td>NaN</td>\n",
       "      <td>NaN</td>\n",
       "      <td>https://twitter.com/dog_rates/status/666029285...</td>\n",
       "      <td>7</td>\n",
       "      <td>10</td>\n",
       "      <td>a</td>\n",
       "      <td>None</td>\n",
       "      <td>None</td>\n",
       "      <td>None</td>\n",
       "      <td>None</td>\n",
       "    </tr>\n",
       "    <tr>\n",
       "      <th>2355</th>\n",
       "      <td>666020888022790149</td>\n",
       "      <td>NaN</td>\n",
       "      <td>NaN</td>\n",
       "      <td>2015-11-15 22:32:08 +0000</td>\n",
       "      <td>&lt;a href=\"http://twitter.com/download/iphone\" r...</td>\n",
       "      <td>Here we have a Japanese Irish Setter. Lost eye...</td>\n",
       "      <td>NaN</td>\n",
       "      <td>NaN</td>\n",
       "      <td>NaN</td>\n",
       "      <td>https://twitter.com/dog_rates/status/666020888...</td>\n",
       "      <td>8</td>\n",
       "      <td>10</td>\n",
       "      <td>None</td>\n",
       "      <td>None</td>\n",
       "      <td>None</td>\n",
       "      <td>None</td>\n",
       "      <td>None</td>\n",
       "    </tr>\n",
       "  </tbody>\n",
       "</table>\n",
       "<p>2356 rows × 17 columns</p>\n",
       "</div>"
      ],
      "text/plain": [
       "                tweet_id  in_reply_to_status_id  in_reply_to_user_id  \\\n",
       "0     892420643555336193                    NaN                  NaN   \n",
       "1     892177421306343426                    NaN                  NaN   \n",
       "2     891815181378084864                    NaN                  NaN   \n",
       "3     891689557279858688                    NaN                  NaN   \n",
       "4     891327558926688256                    NaN                  NaN   \n",
       "...                  ...                    ...                  ...   \n",
       "2351  666049248165822465                    NaN                  NaN   \n",
       "2352  666044226329800704                    NaN                  NaN   \n",
       "2353  666033412701032449                    NaN                  NaN   \n",
       "2354  666029285002620928                    NaN                  NaN   \n",
       "2355  666020888022790149                    NaN                  NaN   \n",
       "\n",
       "                      timestamp  \\\n",
       "0     2017-08-01 16:23:56 +0000   \n",
       "1     2017-08-01 00:17:27 +0000   \n",
       "2     2017-07-31 00:18:03 +0000   \n",
       "3     2017-07-30 15:58:51 +0000   \n",
       "4     2017-07-29 16:00:24 +0000   \n",
       "...                         ...   \n",
       "2351  2015-11-16 00:24:50 +0000   \n",
       "2352  2015-11-16 00:04:52 +0000   \n",
       "2353  2015-11-15 23:21:54 +0000   \n",
       "2354  2015-11-15 23:05:30 +0000   \n",
       "2355  2015-11-15 22:32:08 +0000   \n",
       "\n",
       "                                                 source  \\\n",
       "0     <a href=\"http://twitter.com/download/iphone\" r...   \n",
       "1     <a href=\"http://twitter.com/download/iphone\" r...   \n",
       "2     <a href=\"http://twitter.com/download/iphone\" r...   \n",
       "3     <a href=\"http://twitter.com/download/iphone\" r...   \n",
       "4     <a href=\"http://twitter.com/download/iphone\" r...   \n",
       "...                                                 ...   \n",
       "2351  <a href=\"http://twitter.com/download/iphone\" r...   \n",
       "2352  <a href=\"http://twitter.com/download/iphone\" r...   \n",
       "2353  <a href=\"http://twitter.com/download/iphone\" r...   \n",
       "2354  <a href=\"http://twitter.com/download/iphone\" r...   \n",
       "2355  <a href=\"http://twitter.com/download/iphone\" r...   \n",
       "\n",
       "                                                   text  retweeted_status_id  \\\n",
       "0     This is Phineas. He's a mystical boy. Only eve...                  NaN   \n",
       "1     This is Tilly. She's just checking pup on you....                  NaN   \n",
       "2     This is Archie. He is a rare Norwegian Pouncin...                  NaN   \n",
       "3     This is Darla. She commenced a snooze mid meal...                  NaN   \n",
       "4     This is Franklin. He would like you to stop ca...                  NaN   \n",
       "...                                                 ...                  ...   \n",
       "2351  Here we have a 1949 1st generation vulpix. Enj...                  NaN   \n",
       "2352  This is a purebred Piers Morgan. Loves to Netf...                  NaN   \n",
       "2353  Here is a very happy pup. Big fan of well-main...                  NaN   \n",
       "2354  This is a western brown Mitsubishi terrier. Up...                  NaN   \n",
       "2355  Here we have a Japanese Irish Setter. Lost eye...                  NaN   \n",
       "\n",
       "      retweeted_status_user_id retweeted_status_timestamp  \\\n",
       "0                          NaN                        NaN   \n",
       "1                          NaN                        NaN   \n",
       "2                          NaN                        NaN   \n",
       "3                          NaN                        NaN   \n",
       "4                          NaN                        NaN   \n",
       "...                        ...                        ...   \n",
       "2351                       NaN                        NaN   \n",
       "2352                       NaN                        NaN   \n",
       "2353                       NaN                        NaN   \n",
       "2354                       NaN                        NaN   \n",
       "2355                       NaN                        NaN   \n",
       "\n",
       "                                          expanded_urls  rating_numerator  \\\n",
       "0     https://twitter.com/dog_rates/status/892420643...                13   \n",
       "1     https://twitter.com/dog_rates/status/892177421...                13   \n",
       "2     https://twitter.com/dog_rates/status/891815181...                12   \n",
       "3     https://twitter.com/dog_rates/status/891689557...                13   \n",
       "4     https://twitter.com/dog_rates/status/891327558...                12   \n",
       "...                                                 ...               ...   \n",
       "2351  https://twitter.com/dog_rates/status/666049248...                 5   \n",
       "2352  https://twitter.com/dog_rates/status/666044226...                 6   \n",
       "2353  https://twitter.com/dog_rates/status/666033412...                 9   \n",
       "2354  https://twitter.com/dog_rates/status/666029285...                 7   \n",
       "2355  https://twitter.com/dog_rates/status/666020888...                 8   \n",
       "\n",
       "      rating_denominator      name doggo floofer pupper puppo  \n",
       "0                     10   Phineas  None    None   None  None  \n",
       "1                     10     Tilly  None    None   None  None  \n",
       "2                     10    Archie  None    None   None  None  \n",
       "3                     10     Darla  None    None   None  None  \n",
       "4                     10  Franklin  None    None   None  None  \n",
       "...                  ...       ...   ...     ...    ...   ...  \n",
       "2351                  10      None  None    None   None  None  \n",
       "2352                  10         a  None    None   None  None  \n",
       "2353                  10         a  None    None   None  None  \n",
       "2354                  10         a  None    None   None  None  \n",
       "2355                  10      None  None    None   None  None  \n",
       "\n",
       "[2356 rows x 17 columns]"
      ]
     },
     "execution_count": 11,
     "metadata": {},
     "output_type": "execute_result"
    }
   ],
   "source": [
    "# Display the dataframe\n",
    "Dog_tweets_df"
   ]
  },
  {
   "cell_type": "code",
   "execution_count": 12,
   "id": "1a0c586b",
   "metadata": {},
   "outputs": [
    {
     "name": "stdout",
     "output_type": "stream",
     "text": [
      "<class 'pandas.core.frame.DataFrame'>\n",
      "RangeIndex: 2356 entries, 0 to 2355\n",
      "Data columns (total 17 columns):\n",
      " #   Column                      Non-Null Count  Dtype  \n",
      "---  ------                      --------------  -----  \n",
      " 0   tweet_id                    2356 non-null   int64  \n",
      " 1   in_reply_to_status_id       78 non-null     float64\n",
      " 2   in_reply_to_user_id         78 non-null     float64\n",
      " 3   timestamp                   2356 non-null   object \n",
      " 4   source                      2356 non-null   object \n",
      " 5   text                        2356 non-null   object \n",
      " 6   retweeted_status_id         181 non-null    float64\n",
      " 7   retweeted_status_user_id    181 non-null    float64\n",
      " 8   retweeted_status_timestamp  181 non-null    object \n",
      " 9   expanded_urls               2297 non-null   object \n",
      " 10  rating_numerator            2356 non-null   int64  \n",
      " 11  rating_denominator          2356 non-null   int64  \n",
      " 12  name                        2356 non-null   object \n",
      " 13  doggo                       2356 non-null   object \n",
      " 14  floofer                     2356 non-null   object \n",
      " 15  pupper                      2356 non-null   object \n",
      " 16  puppo                       2356 non-null   object \n",
      "dtypes: float64(4), int64(3), object(10)\n",
      "memory usage: 313.0+ KB\n"
     ]
    }
   ],
   "source": [
    "Dog_tweets_df.info()"
   ]
  },
  {
   "cell_type": "code",
   "execution_count": 13,
   "id": "adf906c0",
   "metadata": {
    "scrolled": false
   },
   "outputs": [
    {
     "data": {
      "text/plain": [
       "count    2356.000000\n",
       "mean       13.126486\n",
       "std        45.876648\n",
       "min         0.000000\n",
       "25%        10.000000\n",
       "50%        11.000000\n",
       "75%        12.000000\n",
       "max      1776.000000\n",
       "Name: rating_numerator, dtype: float64"
      ]
     },
     "execution_count": 13,
     "metadata": {},
     "output_type": "execute_result"
    }
   ],
   "source": [
    "# Check whether there are abnormal values in the rating numerator column\n",
    "Dog_tweets_df.rating_numerator.describe()"
   ]
  },
  {
   "cell_type": "markdown",
   "id": "16a46f77",
   "metadata": {},
   "source": [
    "> Note that the maximum numerator rating is abnormally high. Let use view that particular record to gain more insight about it."
   ]
  },
  {
   "cell_type": "code",
   "execution_count": 14,
   "id": "0545e85c",
   "metadata": {
    "scrolled": true
   },
   "outputs": [
    {
     "data": {
      "text/html": [
       "<div>\n",
       "<style scoped>\n",
       "    .dataframe tbody tr th:only-of-type {\n",
       "        vertical-align: middle;\n",
       "    }\n",
       "\n",
       "    .dataframe tbody tr th {\n",
       "        vertical-align: top;\n",
       "    }\n",
       "\n",
       "    .dataframe thead th {\n",
       "        text-align: right;\n",
       "    }\n",
       "</style>\n",
       "<table border=\"1\" class=\"dataframe\">\n",
       "  <thead>\n",
       "    <tr style=\"text-align: right;\">\n",
       "      <th></th>\n",
       "      <th>tweet_id</th>\n",
       "      <th>in_reply_to_status_id</th>\n",
       "      <th>in_reply_to_user_id</th>\n",
       "      <th>timestamp</th>\n",
       "      <th>source</th>\n",
       "      <th>text</th>\n",
       "      <th>retweeted_status_id</th>\n",
       "      <th>retweeted_status_user_id</th>\n",
       "      <th>retweeted_status_timestamp</th>\n",
       "      <th>expanded_urls</th>\n",
       "      <th>rating_numerator</th>\n",
       "      <th>rating_denominator</th>\n",
       "      <th>name</th>\n",
       "      <th>doggo</th>\n",
       "      <th>floofer</th>\n",
       "      <th>pupper</th>\n",
       "      <th>puppo</th>\n",
       "    </tr>\n",
       "  </thead>\n",
       "  <tbody>\n",
       "    <tr>\n",
       "      <th>979</th>\n",
       "      <td>749981277374128128</td>\n",
       "      <td>NaN</td>\n",
       "      <td>NaN</td>\n",
       "      <td>2016-07-04 15:00:45 +0000</td>\n",
       "      <td>&lt;a href=\"https://about.twitter.com/products/tw...</td>\n",
       "      <td>This is Atticus. He's quite simply America af....</td>\n",
       "      <td>NaN</td>\n",
       "      <td>NaN</td>\n",
       "      <td>NaN</td>\n",
       "      <td>https://twitter.com/dog_rates/status/749981277...</td>\n",
       "      <td>1776</td>\n",
       "      <td>10</td>\n",
       "      <td>Atticus</td>\n",
       "      <td>None</td>\n",
       "      <td>None</td>\n",
       "      <td>None</td>\n",
       "      <td>None</td>\n",
       "    </tr>\n",
       "  </tbody>\n",
       "</table>\n",
       "</div>"
      ],
      "text/plain": [
       "               tweet_id  in_reply_to_status_id  in_reply_to_user_id  \\\n",
       "979  749981277374128128                    NaN                  NaN   \n",
       "\n",
       "                     timestamp  \\\n",
       "979  2016-07-04 15:00:45 +0000   \n",
       "\n",
       "                                                source  \\\n",
       "979  <a href=\"https://about.twitter.com/products/tw...   \n",
       "\n",
       "                                                  text  retweeted_status_id  \\\n",
       "979  This is Atticus. He's quite simply America af....                  NaN   \n",
       "\n",
       "     retweeted_status_user_id retweeted_status_timestamp  \\\n",
       "979                       NaN                        NaN   \n",
       "\n",
       "                                         expanded_urls  rating_numerator  \\\n",
       "979  https://twitter.com/dog_rates/status/749981277...              1776   \n",
       "\n",
       "     rating_denominator     name doggo floofer pupper puppo  \n",
       "979                  10  Atticus  None    None   None  None  "
      ]
     },
     "execution_count": 14,
     "metadata": {},
     "output_type": "execute_result"
    }
   ],
   "source": [
    "Dog_tweets_df.query('rating_numerator == 1776.000000')"
   ]
  },
  {
   "cell_type": "markdown",
   "id": "12acff87",
   "metadata": {},
   "source": [
    "> It appears that the entry is not a problem. Perhaps, the person who rated the dog liked it that much."
   ]
  },
  {
   "cell_type": "code",
   "execution_count": 15,
   "id": "a3e683f5",
   "metadata": {
    "scrolled": false
   },
   "outputs": [
    {
     "data": {
      "text/plain": [
       "count    2356.000000\n",
       "mean       10.455433\n",
       "std         6.745237\n",
       "min         0.000000\n",
       "25%        10.000000\n",
       "50%        10.000000\n",
       "75%        10.000000\n",
       "max       170.000000\n",
       "Name: rating_denominator, dtype: float64"
      ]
     },
     "execution_count": 15,
     "metadata": {},
     "output_type": "execute_result"
    }
   ],
   "source": [
    "# Check whether there are abnormal values in the rating denominator column\n",
    "Dog_tweets_df.rating_denominator.describe()"
   ]
  },
  {
   "cell_type": "code",
   "execution_count": 16,
   "id": "f59a9eff",
   "metadata": {},
   "outputs": [
    {
     "data": {
      "text/plain": [
       "0"
      ]
     },
     "execution_count": 16,
     "metadata": {},
     "output_type": "execute_result"
    }
   ],
   "source": [
    "Dog_tweets_df.duplicated().sum()"
   ]
  },
  {
   "cell_type": "code",
   "execution_count": 17,
   "id": "7545ad3f",
   "metadata": {},
   "outputs": [
    {
     "data": {
      "text/plain": [
       "tweet_id                         0\n",
       "in_reply_to_status_id         2278\n",
       "in_reply_to_user_id           2278\n",
       "timestamp                        0\n",
       "source                           0\n",
       "text                             0\n",
       "retweeted_status_id           2175\n",
       "retweeted_status_user_id      2175\n",
       "retweeted_status_timestamp    2175\n",
       "expanded_urls                   59\n",
       "rating_numerator                 0\n",
       "rating_denominator               0\n",
       "name                             0\n",
       "doggo                            0\n",
       "floofer                          0\n",
       "pupper                           0\n",
       "puppo                            0\n",
       "dtype: int64"
      ]
     },
     "execution_count": 17,
     "metadata": {},
     "output_type": "execute_result"
    }
   ],
   "source": [
    "Dog_tweets_df.isnull().sum()"
   ]
  },
  {
   "cell_type": "markdown",
   "id": "b4ec0bdf",
   "metadata": {},
   "source": [
    "## 2. Assessing the Image Predictions Dataframe"
   ]
  },
  {
   "cell_type": "code",
   "execution_count": 18,
   "id": "1346d113",
   "metadata": {},
   "outputs": [
    {
     "data": {
      "text/html": [
       "<div>\n",
       "<style scoped>\n",
       "    .dataframe tbody tr th:only-of-type {\n",
       "        vertical-align: middle;\n",
       "    }\n",
       "\n",
       "    .dataframe tbody tr th {\n",
       "        vertical-align: top;\n",
       "    }\n",
       "\n",
       "    .dataframe thead th {\n",
       "        text-align: right;\n",
       "    }\n",
       "</style>\n",
       "<table border=\"1\" class=\"dataframe\">\n",
       "  <thead>\n",
       "    <tr style=\"text-align: right;\">\n",
       "      <th></th>\n",
       "      <th>tweet_id</th>\n",
       "      <th>jpg_url</th>\n",
       "      <th>img_num</th>\n",
       "      <th>p1</th>\n",
       "      <th>p1_conf</th>\n",
       "      <th>p1_dog</th>\n",
       "      <th>p2</th>\n",
       "      <th>p2_conf</th>\n",
       "      <th>p2_dog</th>\n",
       "      <th>p3</th>\n",
       "      <th>p3_conf</th>\n",
       "      <th>p3_dog</th>\n",
       "    </tr>\n",
       "  </thead>\n",
       "  <tbody>\n",
       "    <tr>\n",
       "      <th>0</th>\n",
       "      <td>666020888022790149</td>\n",
       "      <td>https://pbs.twimg.com/media/CT4udn0WwAA0aMy.jpg</td>\n",
       "      <td>1</td>\n",
       "      <td>Welsh_springer_spaniel</td>\n",
       "      <td>0.465074</td>\n",
       "      <td>True</td>\n",
       "      <td>collie</td>\n",
       "      <td>0.156665</td>\n",
       "      <td>True</td>\n",
       "      <td>Shetland_sheepdog</td>\n",
       "      <td>0.061428</td>\n",
       "      <td>True</td>\n",
       "    </tr>\n",
       "    <tr>\n",
       "      <th>1</th>\n",
       "      <td>666029285002620928</td>\n",
       "      <td>https://pbs.twimg.com/media/CT42GRgUYAA5iDo.jpg</td>\n",
       "      <td>1</td>\n",
       "      <td>redbone</td>\n",
       "      <td>0.506826</td>\n",
       "      <td>True</td>\n",
       "      <td>miniature_pinscher</td>\n",
       "      <td>0.074192</td>\n",
       "      <td>True</td>\n",
       "      <td>Rhodesian_ridgeback</td>\n",
       "      <td>0.072010</td>\n",
       "      <td>True</td>\n",
       "    </tr>\n",
       "    <tr>\n",
       "      <th>2</th>\n",
       "      <td>666033412701032449</td>\n",
       "      <td>https://pbs.twimg.com/media/CT4521TWwAEvMyu.jpg</td>\n",
       "      <td>1</td>\n",
       "      <td>German_shepherd</td>\n",
       "      <td>0.596461</td>\n",
       "      <td>True</td>\n",
       "      <td>malinois</td>\n",
       "      <td>0.138584</td>\n",
       "      <td>True</td>\n",
       "      <td>bloodhound</td>\n",
       "      <td>0.116197</td>\n",
       "      <td>True</td>\n",
       "    </tr>\n",
       "    <tr>\n",
       "      <th>3</th>\n",
       "      <td>666044226329800704</td>\n",
       "      <td>https://pbs.twimg.com/media/CT5Dr8HUEAA-lEu.jpg</td>\n",
       "      <td>1</td>\n",
       "      <td>Rhodesian_ridgeback</td>\n",
       "      <td>0.408143</td>\n",
       "      <td>True</td>\n",
       "      <td>redbone</td>\n",
       "      <td>0.360687</td>\n",
       "      <td>True</td>\n",
       "      <td>miniature_pinscher</td>\n",
       "      <td>0.222752</td>\n",
       "      <td>True</td>\n",
       "    </tr>\n",
       "    <tr>\n",
       "      <th>4</th>\n",
       "      <td>666049248165822465</td>\n",
       "      <td>https://pbs.twimg.com/media/CT5IQmsXIAAKY4A.jpg</td>\n",
       "      <td>1</td>\n",
       "      <td>miniature_pinscher</td>\n",
       "      <td>0.560311</td>\n",
       "      <td>True</td>\n",
       "      <td>Rottweiler</td>\n",
       "      <td>0.243682</td>\n",
       "      <td>True</td>\n",
       "      <td>Doberman</td>\n",
       "      <td>0.154629</td>\n",
       "      <td>True</td>\n",
       "    </tr>\n",
       "    <tr>\n",
       "      <th>...</th>\n",
       "      <td>...</td>\n",
       "      <td>...</td>\n",
       "      <td>...</td>\n",
       "      <td>...</td>\n",
       "      <td>...</td>\n",
       "      <td>...</td>\n",
       "      <td>...</td>\n",
       "      <td>...</td>\n",
       "      <td>...</td>\n",
       "      <td>...</td>\n",
       "      <td>...</td>\n",
       "      <td>...</td>\n",
       "    </tr>\n",
       "    <tr>\n",
       "      <th>2070</th>\n",
       "      <td>891327558926688256</td>\n",
       "      <td>https://pbs.twimg.com/media/DF6hr6BUMAAzZgT.jpg</td>\n",
       "      <td>2</td>\n",
       "      <td>basset</td>\n",
       "      <td>0.555712</td>\n",
       "      <td>True</td>\n",
       "      <td>English_springer</td>\n",
       "      <td>0.225770</td>\n",
       "      <td>True</td>\n",
       "      <td>German_short-haired_pointer</td>\n",
       "      <td>0.175219</td>\n",
       "      <td>True</td>\n",
       "    </tr>\n",
       "    <tr>\n",
       "      <th>2071</th>\n",
       "      <td>891689557279858688</td>\n",
       "      <td>https://pbs.twimg.com/media/DF_q7IAWsAEuuN8.jpg</td>\n",
       "      <td>1</td>\n",
       "      <td>paper_towel</td>\n",
       "      <td>0.170278</td>\n",
       "      <td>False</td>\n",
       "      <td>Labrador_retriever</td>\n",
       "      <td>0.168086</td>\n",
       "      <td>True</td>\n",
       "      <td>spatula</td>\n",
       "      <td>0.040836</td>\n",
       "      <td>False</td>\n",
       "    </tr>\n",
       "    <tr>\n",
       "      <th>2072</th>\n",
       "      <td>891815181378084864</td>\n",
       "      <td>https://pbs.twimg.com/media/DGBdLU1WsAANxJ9.jpg</td>\n",
       "      <td>1</td>\n",
       "      <td>Chihuahua</td>\n",
       "      <td>0.716012</td>\n",
       "      <td>True</td>\n",
       "      <td>malamute</td>\n",
       "      <td>0.078253</td>\n",
       "      <td>True</td>\n",
       "      <td>kelpie</td>\n",
       "      <td>0.031379</td>\n",
       "      <td>True</td>\n",
       "    </tr>\n",
       "    <tr>\n",
       "      <th>2073</th>\n",
       "      <td>892177421306343426</td>\n",
       "      <td>https://pbs.twimg.com/media/DGGmoV4XsAAUL6n.jpg</td>\n",
       "      <td>1</td>\n",
       "      <td>Chihuahua</td>\n",
       "      <td>0.323581</td>\n",
       "      <td>True</td>\n",
       "      <td>Pekinese</td>\n",
       "      <td>0.090647</td>\n",
       "      <td>True</td>\n",
       "      <td>papillon</td>\n",
       "      <td>0.068957</td>\n",
       "      <td>True</td>\n",
       "    </tr>\n",
       "    <tr>\n",
       "      <th>2074</th>\n",
       "      <td>892420643555336193</td>\n",
       "      <td>https://pbs.twimg.com/media/DGKD1-bXoAAIAUK.jpg</td>\n",
       "      <td>1</td>\n",
       "      <td>orange</td>\n",
       "      <td>0.097049</td>\n",
       "      <td>False</td>\n",
       "      <td>bagel</td>\n",
       "      <td>0.085851</td>\n",
       "      <td>False</td>\n",
       "      <td>banana</td>\n",
       "      <td>0.076110</td>\n",
       "      <td>False</td>\n",
       "    </tr>\n",
       "  </tbody>\n",
       "</table>\n",
       "<p>2075 rows × 12 columns</p>\n",
       "</div>"
      ],
      "text/plain": [
       "                tweet_id                                          jpg_url  \\\n",
       "0     666020888022790149  https://pbs.twimg.com/media/CT4udn0WwAA0aMy.jpg   \n",
       "1     666029285002620928  https://pbs.twimg.com/media/CT42GRgUYAA5iDo.jpg   \n",
       "2     666033412701032449  https://pbs.twimg.com/media/CT4521TWwAEvMyu.jpg   \n",
       "3     666044226329800704  https://pbs.twimg.com/media/CT5Dr8HUEAA-lEu.jpg   \n",
       "4     666049248165822465  https://pbs.twimg.com/media/CT5IQmsXIAAKY4A.jpg   \n",
       "...                  ...                                              ...   \n",
       "2070  891327558926688256  https://pbs.twimg.com/media/DF6hr6BUMAAzZgT.jpg   \n",
       "2071  891689557279858688  https://pbs.twimg.com/media/DF_q7IAWsAEuuN8.jpg   \n",
       "2072  891815181378084864  https://pbs.twimg.com/media/DGBdLU1WsAANxJ9.jpg   \n",
       "2073  892177421306343426  https://pbs.twimg.com/media/DGGmoV4XsAAUL6n.jpg   \n",
       "2074  892420643555336193  https://pbs.twimg.com/media/DGKD1-bXoAAIAUK.jpg   \n",
       "\n",
       "      img_num                      p1   p1_conf  p1_dog                  p2  \\\n",
       "0           1  Welsh_springer_spaniel  0.465074    True              collie   \n",
       "1           1                 redbone  0.506826    True  miniature_pinscher   \n",
       "2           1         German_shepherd  0.596461    True            malinois   \n",
       "3           1     Rhodesian_ridgeback  0.408143    True             redbone   \n",
       "4           1      miniature_pinscher  0.560311    True          Rottweiler   \n",
       "...       ...                     ...       ...     ...                 ...   \n",
       "2070        2                  basset  0.555712    True    English_springer   \n",
       "2071        1             paper_towel  0.170278   False  Labrador_retriever   \n",
       "2072        1               Chihuahua  0.716012    True            malamute   \n",
       "2073        1               Chihuahua  0.323581    True            Pekinese   \n",
       "2074        1                  orange  0.097049   False               bagel   \n",
       "\n",
       "       p2_conf  p2_dog                           p3   p3_conf  p3_dog  \n",
       "0     0.156665    True            Shetland_sheepdog  0.061428    True  \n",
       "1     0.074192    True          Rhodesian_ridgeback  0.072010    True  \n",
       "2     0.138584    True                   bloodhound  0.116197    True  \n",
       "3     0.360687    True           miniature_pinscher  0.222752    True  \n",
       "4     0.243682    True                     Doberman  0.154629    True  \n",
       "...        ...     ...                          ...       ...     ...  \n",
       "2070  0.225770    True  German_short-haired_pointer  0.175219    True  \n",
       "2071  0.168086    True                      spatula  0.040836   False  \n",
       "2072  0.078253    True                       kelpie  0.031379    True  \n",
       "2073  0.090647    True                     papillon  0.068957    True  \n",
       "2074  0.085851   False                       banana  0.076110   False  \n",
       "\n",
       "[2075 rows x 12 columns]"
      ]
     },
     "execution_count": 18,
     "metadata": {},
     "output_type": "execute_result"
    }
   ],
   "source": [
    "# Display the dataframe\n",
    "image_prediction_df"
   ]
  },
  {
   "cell_type": "code",
   "execution_count": 19,
   "id": "ba9bcaad",
   "metadata": {},
   "outputs": [
    {
     "name": "stdout",
     "output_type": "stream",
     "text": [
      "<class 'pandas.core.frame.DataFrame'>\n",
      "RangeIndex: 2075 entries, 0 to 2074\n",
      "Data columns (total 12 columns):\n",
      " #   Column    Non-Null Count  Dtype  \n",
      "---  ------    --------------  -----  \n",
      " 0   tweet_id  2075 non-null   int64  \n",
      " 1   jpg_url   2075 non-null   object \n",
      " 2   img_num   2075 non-null   int64  \n",
      " 3   p1        2075 non-null   object \n",
      " 4   p1_conf   2075 non-null   float64\n",
      " 5   p1_dog    2075 non-null   bool   \n",
      " 6   p2        2075 non-null   object \n",
      " 7   p2_conf   2075 non-null   float64\n",
      " 8   p2_dog    2075 non-null   bool   \n",
      " 9   p3        2075 non-null   object \n",
      " 10  p3_conf   2075 non-null   float64\n",
      " 11  p3_dog    2075 non-null   bool   \n",
      "dtypes: bool(3), float64(3), int64(2), object(4)\n",
      "memory usage: 152.1+ KB\n"
     ]
    }
   ],
   "source": [
    "# Check the datatypes of every column an whether any column has null entries\n",
    "image_prediction_df.info()"
   ]
  },
  {
   "cell_type": "code",
   "execution_count": 20,
   "id": "556823be",
   "metadata": {},
   "outputs": [
    {
     "data": {
      "text/plain": [
       "0"
      ]
     },
     "execution_count": 20,
     "metadata": {},
     "output_type": "execute_result"
    }
   ],
   "source": [
    "# Check for duplicates\n",
    "image_prediction_df.duplicated().sum()"
   ]
  },
  {
   "cell_type": "code",
   "execution_count": 21,
   "id": "088959bc",
   "metadata": {},
   "outputs": [
    {
     "data": {
      "text/html": [
       "<div>\n",
       "<style scoped>\n",
       "    .dataframe tbody tr th:only-of-type {\n",
       "        vertical-align: middle;\n",
       "    }\n",
       "\n",
       "    .dataframe tbody tr th {\n",
       "        vertical-align: top;\n",
       "    }\n",
       "\n",
       "    .dataframe thead th {\n",
       "        text-align: right;\n",
       "    }\n",
       "</style>\n",
       "<table border=\"1\" class=\"dataframe\">\n",
       "  <thead>\n",
       "    <tr style=\"text-align: right;\">\n",
       "      <th></th>\n",
       "      <th>tweet_id</th>\n",
       "      <th>img_num</th>\n",
       "      <th>p1_conf</th>\n",
       "      <th>p2_conf</th>\n",
       "      <th>p3_conf</th>\n",
       "    </tr>\n",
       "  </thead>\n",
       "  <tbody>\n",
       "    <tr>\n",
       "      <th>count</th>\n",
       "      <td>2.075000e+03</td>\n",
       "      <td>2075.000000</td>\n",
       "      <td>2075.000000</td>\n",
       "      <td>2.075000e+03</td>\n",
       "      <td>2.075000e+03</td>\n",
       "    </tr>\n",
       "    <tr>\n",
       "      <th>mean</th>\n",
       "      <td>7.384514e+17</td>\n",
       "      <td>1.203855</td>\n",
       "      <td>0.594548</td>\n",
       "      <td>1.345886e-01</td>\n",
       "      <td>6.032417e-02</td>\n",
       "    </tr>\n",
       "    <tr>\n",
       "      <th>std</th>\n",
       "      <td>6.785203e+16</td>\n",
       "      <td>0.561875</td>\n",
       "      <td>0.271174</td>\n",
       "      <td>1.006657e-01</td>\n",
       "      <td>5.090593e-02</td>\n",
       "    </tr>\n",
       "    <tr>\n",
       "      <th>min</th>\n",
       "      <td>6.660209e+17</td>\n",
       "      <td>1.000000</td>\n",
       "      <td>0.044333</td>\n",
       "      <td>1.011300e-08</td>\n",
       "      <td>1.740170e-10</td>\n",
       "    </tr>\n",
       "    <tr>\n",
       "      <th>25%</th>\n",
       "      <td>6.764835e+17</td>\n",
       "      <td>1.000000</td>\n",
       "      <td>0.364412</td>\n",
       "      <td>5.388625e-02</td>\n",
       "      <td>1.622240e-02</td>\n",
       "    </tr>\n",
       "    <tr>\n",
       "      <th>50%</th>\n",
       "      <td>7.119988e+17</td>\n",
       "      <td>1.000000</td>\n",
       "      <td>0.588230</td>\n",
       "      <td>1.181810e-01</td>\n",
       "      <td>4.944380e-02</td>\n",
       "    </tr>\n",
       "    <tr>\n",
       "      <th>75%</th>\n",
       "      <td>7.932034e+17</td>\n",
       "      <td>1.000000</td>\n",
       "      <td>0.843855</td>\n",
       "      <td>1.955655e-01</td>\n",
       "      <td>9.180755e-02</td>\n",
       "    </tr>\n",
       "    <tr>\n",
       "      <th>max</th>\n",
       "      <td>8.924206e+17</td>\n",
       "      <td>4.000000</td>\n",
       "      <td>1.000000</td>\n",
       "      <td>4.880140e-01</td>\n",
       "      <td>2.734190e-01</td>\n",
       "    </tr>\n",
       "  </tbody>\n",
       "</table>\n",
       "</div>"
      ],
      "text/plain": [
       "           tweet_id      img_num      p1_conf       p2_conf       p3_conf\n",
       "count  2.075000e+03  2075.000000  2075.000000  2.075000e+03  2.075000e+03\n",
       "mean   7.384514e+17     1.203855     0.594548  1.345886e-01  6.032417e-02\n",
       "std    6.785203e+16     0.561875     0.271174  1.006657e-01  5.090593e-02\n",
       "min    6.660209e+17     1.000000     0.044333  1.011300e-08  1.740170e-10\n",
       "25%    6.764835e+17     1.000000     0.364412  5.388625e-02  1.622240e-02\n",
       "50%    7.119988e+17     1.000000     0.588230  1.181810e-01  4.944380e-02\n",
       "75%    7.932034e+17     1.000000     0.843855  1.955655e-01  9.180755e-02\n",
       "max    8.924206e+17     4.000000     1.000000  4.880140e-01  2.734190e-01"
      ]
     },
     "execution_count": 21,
     "metadata": {},
     "output_type": "execute_result"
    }
   ],
   "source": [
    "# Check if the dataframe has abnormal numerical values.\n",
    "image_prediction_df.describe()"
   ]
  },
  {
   "cell_type": "markdown",
   "id": "86ab1300",
   "metadata": {},
   "source": [
    "## 3. Assessing the `likes and retweet` dataframe"
   ]
  },
  {
   "cell_type": "code",
   "execution_count": 22,
   "id": "03aee754",
   "metadata": {},
   "outputs": [
    {
     "data": {
      "text/html": [
       "<div>\n",
       "<style scoped>\n",
       "    .dataframe tbody tr th:only-of-type {\n",
       "        vertical-align: middle;\n",
       "    }\n",
       "\n",
       "    .dataframe tbody tr th {\n",
       "        vertical-align: top;\n",
       "    }\n",
       "\n",
       "    .dataframe thead th {\n",
       "        text-align: right;\n",
       "    }\n",
       "</style>\n",
       "<table border=\"1\" class=\"dataframe\">\n",
       "  <thead>\n",
       "    <tr style=\"text-align: right;\">\n",
       "      <th></th>\n",
       "      <th>tweet_id</th>\n",
       "      <th>retweet_count</th>\n",
       "      <th>favorite_count</th>\n",
       "    </tr>\n",
       "  </thead>\n",
       "  <tbody>\n",
       "    <tr>\n",
       "      <th>0</th>\n",
       "      <td>892420643555336193</td>\n",
       "      <td>7009</td>\n",
       "      <td>33815</td>\n",
       "    </tr>\n",
       "    <tr>\n",
       "      <th>1</th>\n",
       "      <td>892177421306343426</td>\n",
       "      <td>5302</td>\n",
       "      <td>29320</td>\n",
       "    </tr>\n",
       "    <tr>\n",
       "      <th>2</th>\n",
       "      <td>891815181378084864</td>\n",
       "      <td>3481</td>\n",
       "      <td>22050</td>\n",
       "    </tr>\n",
       "    <tr>\n",
       "      <th>3</th>\n",
       "      <td>891689557279858688</td>\n",
       "      <td>7219</td>\n",
       "      <td>36903</td>\n",
       "    </tr>\n",
       "    <tr>\n",
       "      <th>4</th>\n",
       "      <td>891327558926688256</td>\n",
       "      <td>7762</td>\n",
       "      <td>35311</td>\n",
       "    </tr>\n",
       "    <tr>\n",
       "      <th>...</th>\n",
       "      <td>...</td>\n",
       "      <td>...</td>\n",
       "      <td>...</td>\n",
       "    </tr>\n",
       "    <tr>\n",
       "      <th>2351</th>\n",
       "      <td>666049248165822465</td>\n",
       "      <td>37</td>\n",
       "      <td>89</td>\n",
       "    </tr>\n",
       "    <tr>\n",
       "      <th>2352</th>\n",
       "      <td>666044226329800704</td>\n",
       "      <td>115</td>\n",
       "      <td>247</td>\n",
       "    </tr>\n",
       "    <tr>\n",
       "      <th>2353</th>\n",
       "      <td>666033412701032449</td>\n",
       "      <td>36</td>\n",
       "      <td>100</td>\n",
       "    </tr>\n",
       "    <tr>\n",
       "      <th>2354</th>\n",
       "      <td>666029285002620928</td>\n",
       "      <td>39</td>\n",
       "      <td>112</td>\n",
       "    </tr>\n",
       "    <tr>\n",
       "      <th>2355</th>\n",
       "      <td>666020888022790149</td>\n",
       "      <td>423</td>\n",
       "      <td>2293</td>\n",
       "    </tr>\n",
       "  </tbody>\n",
       "</table>\n",
       "<p>2356 rows × 3 columns</p>\n",
       "</div>"
      ],
      "text/plain": [
       "                tweet_id  retweet_count  favorite_count\n",
       "0     892420643555336193           7009           33815\n",
       "1     892177421306343426           5302           29320\n",
       "2     891815181378084864           3481           22050\n",
       "3     891689557279858688           7219           36903\n",
       "4     891327558926688256           7762           35311\n",
       "...                  ...            ...             ...\n",
       "2351  666049248165822465             37              89\n",
       "2352  666044226329800704            115             247\n",
       "2353  666033412701032449             36             100\n",
       "2354  666029285002620928             39             112\n",
       "2355  666020888022790149            423            2293\n",
       "\n",
       "[2356 rows x 3 columns]"
      ]
     },
     "execution_count": 22,
     "metadata": {},
     "output_type": "execute_result"
    }
   ],
   "source": [
    "# Display the dataframe\n",
    "reaction_counts_df"
   ]
  },
  {
   "cell_type": "code",
   "execution_count": 23,
   "id": "3b5c2c79",
   "metadata": {},
   "outputs": [
    {
     "name": "stdout",
     "output_type": "stream",
     "text": [
      "<class 'pandas.core.frame.DataFrame'>\n",
      "RangeIndex: 2356 entries, 0 to 2355\n",
      "Data columns (total 3 columns):\n",
      " #   Column          Non-Null Count  Dtype\n",
      "---  ------          --------------  -----\n",
      " 0   tweet_id        2356 non-null   int64\n",
      " 1   retweet_count   2356 non-null   int64\n",
      " 2   favorite_count  2356 non-null   int64\n",
      "dtypes: int64(3)\n",
      "memory usage: 55.3 KB\n"
     ]
    }
   ],
   "source": [
    "# Check for null entries in the dataframe and the datatype of every column.\n",
    "reaction_counts_df.info()"
   ]
  },
  {
   "cell_type": "code",
   "execution_count": 24,
   "id": "408d45b2",
   "metadata": {},
   "outputs": [
    {
     "data": {
      "text/html": [
       "<div>\n",
       "<style scoped>\n",
       "    .dataframe tbody tr th:only-of-type {\n",
       "        vertical-align: middle;\n",
       "    }\n",
       "\n",
       "    .dataframe tbody tr th {\n",
       "        vertical-align: top;\n",
       "    }\n",
       "\n",
       "    .dataframe thead th {\n",
       "        text-align: right;\n",
       "    }\n",
       "</style>\n",
       "<table border=\"1\" class=\"dataframe\">\n",
       "  <thead>\n",
       "    <tr style=\"text-align: right;\">\n",
       "      <th></th>\n",
       "      <th>tweet_id</th>\n",
       "      <th>retweet_count</th>\n",
       "      <th>favorite_count</th>\n",
       "    </tr>\n",
       "  </thead>\n",
       "  <tbody>\n",
       "    <tr>\n",
       "      <th>count</th>\n",
       "      <td>2.356000e+03</td>\n",
       "      <td>2356.000000</td>\n",
       "      <td>2356.00000</td>\n",
       "    </tr>\n",
       "    <tr>\n",
       "      <th>mean</th>\n",
       "      <td>7.427737e+17</td>\n",
       "      <td>2492.997878</td>\n",
       "      <td>7157.22708</td>\n",
       "    </tr>\n",
       "    <tr>\n",
       "      <th>std</th>\n",
       "      <td>6.857010e+16</td>\n",
       "      <td>4193.078114</td>\n",
       "      <td>11028.70282</td>\n",
       "    </tr>\n",
       "    <tr>\n",
       "      <th>min</th>\n",
       "      <td>6.660209e+17</td>\n",
       "      <td>1.000000</td>\n",
       "      <td>0.00000</td>\n",
       "    </tr>\n",
       "    <tr>\n",
       "      <th>25%</th>\n",
       "      <td>6.783989e+17</td>\n",
       "      <td>500.750000</td>\n",
       "      <td>1243.00000</td>\n",
       "    </tr>\n",
       "    <tr>\n",
       "      <th>50%</th>\n",
       "      <td>7.196279e+17</td>\n",
       "      <td>1186.000000</td>\n",
       "      <td>3116.00000</td>\n",
       "    </tr>\n",
       "    <tr>\n",
       "      <th>75%</th>\n",
       "      <td>7.993373e+17</td>\n",
       "      <td>2879.000000</td>\n",
       "      <td>8857.50000</td>\n",
       "    </tr>\n",
       "    <tr>\n",
       "      <th>max</th>\n",
       "      <td>8.924206e+17</td>\n",
       "      <td>70758.000000</td>\n",
       "      <td>144922.00000</td>\n",
       "    </tr>\n",
       "  </tbody>\n",
       "</table>\n",
       "</div>"
      ],
      "text/plain": [
       "           tweet_id  retweet_count  favorite_count\n",
       "count  2.356000e+03    2356.000000      2356.00000\n",
       "mean   7.427737e+17    2492.997878      7157.22708\n",
       "std    6.857010e+16    4193.078114     11028.70282\n",
       "min    6.660209e+17       1.000000         0.00000\n",
       "25%    6.783989e+17     500.750000      1243.00000\n",
       "50%    7.196279e+17    1186.000000      3116.00000\n",
       "75%    7.993373e+17    2879.000000      8857.50000\n",
       "max    8.924206e+17   70758.000000    144922.00000"
      ]
     },
     "execution_count": 24,
     "metadata": {},
     "output_type": "execute_result"
    }
   ],
   "source": [
    "# Check for abnormal numerical values.\n",
    "reaction_counts_df.describe()"
   ]
  },
  {
   "cell_type": "markdown",
   "id": "b671413e",
   "metadata": {},
   "source": [
    "# Assessment Report"
   ]
  },
  {
   "cell_type": "markdown",
   "id": "b9cb6521",
   "metadata": {},
   "source": [
    "### Quality Issues\n",
    "#### Dog_tweet dataframe\n",
    "1. The `in_reply_to_status_id` column has 2278 null entries<br>\n",
    "2. The `in_reply_to_user_id` column has 2278 null entries<br>\n",
    "3. The `retweeted_status_id` column has 2175 null entries<br>\n",
    "4. The `retweeted_status_user_id` column has 2175 null entries<br>\n",
    "5. The `retweeted_status_timestamp` column has 2175 null entries<br>\n",
    "6. The `expanded_urls` column has 59 null entries<br>\n",
    "7. Some of the entries in the `expanded_urls` column contains double entries that are duplicates.\n",
    "8. `source column` contain a tags (`<a/>`).\n",
    "9. Erroneous datatypes (timestamp, retweeted_status_timestamp columns, rating_denominator, rating_numerator columns).\n",
    "\n",
    "#### image prediction dataframe\n",
    "1. This dataframe has non-descriptive column names.\n",
    "2. Comparing the number of entries in the image prediction dataframe and the dog tweets dataframe, it is clear that some of the tweets have no corresponding image predictions in the image prediction dataframe.\n",
    "\n",
    "#### Favourite counts & retweet counts dataframe\n",
    "- No issues detected\n",
    "\n",
    "### Tidiness Issues\n",
    "#### Dog_tweet dataframe\n",
    "1. `timestamp column`  has two variable entries (Date & Time).\n",
    "2. `retweeted_status_timestamp` has two variable entries (Date & Time).\n",
    "2. `source column` has two variables (source name & source url).\n",
    "3. `text column` has four variables in the same column (The tweet, rating_numerator, rating_denominator, Tweet link). **note: the tweet link in this column is similar to the link in the source column**\n",
    "4. The `doggo`, `floofer`, `pupper`, `puppo` should be variables.\n",
    "\n",
    "#### image prediction dataframe\n",
    "- No isses detected\n",
    "\n",
    "#### Favourite counts & retweet counts dataframe\n",
    "1. We do not need this table because the information it holds (favourite counts and retweet counts) should appear alongside each respective tweet in the dog tweet dataframe.\n"
   ]
  },
  {
   "cell_type": "markdown",
   "id": "a83ba1ac",
   "metadata": {},
   "source": [
    "# Data Cleaning"
   ]
  },
  {
   "cell_type": "code",
   "execution_count": 25,
   "id": "3a48fa0f",
   "metadata": {},
   "outputs": [],
   "source": [
    "# Make copies of the datasets\n",
    "tweet_clean = Dog_tweets_df.copy()\n",
    "image_prediction_clean = image_prediction_df.copy()\n",
    "reaction_count_clean = reaction_counts_df.copy()"
   ]
  },
  {
   "cell_type": "markdown",
   "id": "8a9d14ea",
   "metadata": {},
   "source": [
    "## Quality issues"
   ]
  },
  {
   "cell_type": "markdown",
   "id": "47565f7a",
   "metadata": {},
   "source": [
    "## `Dog Tweet dataframe`"
   ]
  },
  {
   "cell_type": "markdown",
   "id": "d7a1b05a",
   "metadata": {},
   "source": [
    "### Dealing with missing data"
   ]
  },
  {
   "cell_type": "markdown",
   "id": "8602b10f",
   "metadata": {},
   "source": [
    "#### Define:\n",
    "- The dog_tweet dataframe: The `in_reply_to_status_id`, `in_reply_to_user_id`, `retweeted_status_id`, `retweeted_status_user_id`, and `retweeted_status_timestamp` have many missing records, all of which we have no means to recover. Since we will not be needing then during analysis, we can drop them off.\n",
    "- For the `expanded_urls` column, only few entries (59) are missing. However, we have no means of finding the data. So, we can hold it as it is for now. "
   ]
  },
  {
   "cell_type": "markdown",
   "id": "9673b95e",
   "metadata": {},
   "source": [
    "#### code"
   ]
  },
  {
   "cell_type": "code",
   "execution_count": 26,
   "id": "0255f7e2",
   "metadata": {},
   "outputs": [],
   "source": [
    "tweet_clean.drop(['in_reply_to_status_id',\n",
    "                  'in_reply_to_user_id',\n",
    "                  'retweeted_status_id',\n",
    "                  'retweeted_status_user_id',\n",
    "                  'retweeted_status_timestamp'],\n",
    "                 axis=1,\n",
    "                 inplace=True)"
   ]
  },
  {
   "cell_type": "markdown",
   "id": "7131aff6",
   "metadata": {},
   "source": [
    "#### Test"
   ]
  },
  {
   "cell_type": "code",
   "execution_count": 27,
   "id": "fc048fd6",
   "metadata": {},
   "outputs": [],
   "source": [
    "# If the columns were dropped successfully, the assert statement will run without an assertion error.\n",
    "dropped_columns = ['in_reply_to_status_id',\n",
    "                  'in_reply_to_user_id',\n",
    "                  'retweeted_status_id',\n",
    "                  'retweeted_status_user_id',\n",
    "                  'retweeted_status_timestamp']\n",
    "for col in dropped_columns:\n",
    "    assert col not in tweet_clean.columns"
   ]
  },
  {
   "cell_type": "markdown",
   "id": "37273159",
   "metadata": {},
   "source": [
    "### Dealing with duplicated records\n",
    "Some of the entries in the `expanded_urls` column contains double entries that are duplicates.\n",
    "#### Define:\n",
    "For the entries with two URLs, only pick the first url and drop the others"
   ]
  },
  {
   "cell_type": "markdown",
   "id": "ad3eb5ff",
   "metadata": {},
   "source": [
    "#### Code"
   ]
  },
  {
   "cell_type": "code",
   "execution_count": 28,
   "id": "7474314d",
   "metadata": {},
   "outputs": [],
   "source": [
    "separator = ','\n",
    "for entry in tweet_clean.expanded_urls:\n",
    "    if separator in str(entry):\n",
    "        tweet_clean.expanded_urls = entry.split(',')[0]"
   ]
  },
  {
   "cell_type": "markdown",
   "id": "6a230be3",
   "metadata": {},
   "source": [
    "#### Test"
   ]
  },
  {
   "cell_type": "code",
   "execution_count": 29,
   "id": "e773a2c2",
   "metadata": {},
   "outputs": [],
   "source": [
    "# If the duplicated urls were removed successfully, this test will pass without an assertion error\n",
    "for url in tweet_clean.expanded_urls:\n",
    "    assert separator not in url"
   ]
  },
  {
   "cell_type": "markdown",
   "id": "2b97398c",
   "metadata": {},
   "source": [
    "### `source column` contain a tags (`<a/>`).\n",
    "#### Define\n",
    "Extract the `href` and `name of the source` from the a tag. After the extraction, delete the old source column"
   ]
  },
  {
   "cell_type": "markdown",
   "id": "b45ead24",
   "metadata": {},
   "source": [
    "#### code"
   ]
  },
  {
   "cell_type": "code",
   "execution_count": 30,
   "id": "9045374e",
   "metadata": {},
   "outputs": [],
   "source": [
    "for tag in tweet_clean.source:\n",
    "    soup = BeautifulSoup(tag, \"html.parser\")\n",
    "    tweet_clean['source_name'] = soup.find('a').contents[0]\n",
    "    tweet_clean['source_url'] = soup.find('a').get('href')\n",
    "\n",
    "# Now, delete the old column\n",
    "tweet_clean.drop('source', axis=1, inplace=True)"
   ]
  },
  {
   "cell_type": "markdown",
   "id": "b3dcf1e9",
   "metadata": {},
   "source": [
    "#### Test"
   ]
  },
  {
   "cell_type": "code",
   "execution_count": 31,
   "id": "4e3a5410",
   "metadata": {},
   "outputs": [],
   "source": [
    "# Assert that the new columns have been added to the dataframe and that the old column has been downloaded.\n",
    "# If the code above was successful, these assertion tests should pass without assertion errors.\n",
    "new_column = ['source_name', 'source_url']\n",
    "for col in new_column:\n",
    "    assert col in tweet_clean.columns\n",
    "\n",
    "assert 'source' not in tweet_clean.columns"
   ]
  },
  {
   "cell_type": "markdown",
   "id": "1677a252",
   "metadata": {},
   "source": [
    "### Erroneous datatypes (timestamp, retweeted_status_timestamp, rating_denominator, rating_numerator columns).\n",
    "#### Define:\n",
    "> - Timestamp, retweeted_status_timestamp columns have some tidiness issues. therefore, we hold this columns for now.\n",
    "> - Change the datatype of rating_denominator, rating_numerator columns from float to integers"
   ]
  },
  {
   "cell_type": "markdown",
   "id": "f2373986",
   "metadata": {},
   "source": [
    "#### Code"
   ]
  },
  {
   "cell_type": "code",
   "execution_count": 32,
   "id": "d530d34f",
   "metadata": {},
   "outputs": [],
   "source": [
    "tweet_clean.rating_denominator = tweet_clean.rating_denominator.astype(int)\n",
    "tweet_clean.rating_numerator = tweet_clean.rating_numerator.astype(int)"
   ]
  },
  {
   "cell_type": "markdown",
   "id": "5bca2ca1",
   "metadata": {},
   "source": [
    "#### test"
   ]
  },
  {
   "cell_type": "code",
   "execution_count": 33,
   "id": "5e9a22ab",
   "metadata": {
    "scrolled": false
   },
   "outputs": [
    {
     "name": "stdout",
     "output_type": "stream",
     "text": [
      "<class 'pandas.core.frame.DataFrame'>\n",
      "RangeIndex: 2356 entries, 0 to 2355\n",
      "Data columns (total 13 columns):\n",
      " #   Column              Non-Null Count  Dtype \n",
      "---  ------              --------------  ----- \n",
      " 0   tweet_id            2356 non-null   int64 \n",
      " 1   timestamp           2356 non-null   object\n",
      " 2   text                2356 non-null   object\n",
      " 3   expanded_urls       2356 non-null   object\n",
      " 4   rating_numerator    2356 non-null   int64 \n",
      " 5   rating_denominator  2356 non-null   int64 \n",
      " 6   name                2356 non-null   object\n",
      " 7   doggo               2356 non-null   object\n",
      " 8   floofer             2356 non-null   object\n",
      " 9   pupper              2356 non-null   object\n",
      " 10  puppo               2356 non-null   object\n",
      " 11  source_name         2356 non-null   object\n",
      " 12  source_url          2356 non-null   object\n",
      "dtypes: int64(3), object(10)\n",
      "memory usage: 239.4+ KB\n"
     ]
    }
   ],
   "source": [
    "# Check to see that the datatypes have been changed as required.\n",
    "tweet_clean.info()"
   ]
  },
  {
   "cell_type": "markdown",
   "id": "a412bb38",
   "metadata": {},
   "source": [
    "## `Image Prediction dataframe`"
   ]
  },
  {
   "cell_type": "markdown",
   "id": "835731cb",
   "metadata": {},
   "source": [
    "### This dataframe has non-descriptive column names.\n",
    "#### Define:\n",
    "Change: <br>\n",
    "> - img_num --> number_of_images<br>\n",
    "> - p1 --> prediction_1<br>\n",
    "> - p1_conf --> prediction_1_confidence<br>\n",
    "> - p1_dog --> prediction_1_dog\n",
    "> - p2 --> prediction_2<br>\n",
    "> - p2_conf --> prediction_2_confidence<br>\n",
    "> - p2_dog --> prediction_2_dog\n",
    "> - p3 --> prediction_3<br>\n",
    "> - p3_conf --> prediction_3_confidence<br>\n",
    "> - p3_dog --> prediction_3_dog"
   ]
  },
  {
   "cell_type": "markdown",
   "id": "fff7b0e2",
   "metadata": {},
   "source": [
    "#### code"
   ]
  },
  {
   "cell_type": "code",
   "execution_count": 34,
   "id": "2a7ac54c",
   "metadata": {},
   "outputs": [],
   "source": [
    "image_prediction_clean.columns = ['tweet_id', 'jpg_url', 'number_of_images', 'prediction_1', 'prediction_1_confidence', 'prediction_1_dog', 'prediction_2', 'prediction_2_confidence', 'prediction_2_dog', 'prediction_3', 'prediction_3_confidence', 'prediction_3_dog']"
   ]
  },
  {
   "cell_type": "markdown",
   "id": "e20c7e6c",
   "metadata": {},
   "source": [
    "#### test"
   ]
  },
  {
   "cell_type": "code",
   "execution_count": 35,
   "id": "9cf166e8",
   "metadata": {},
   "outputs": [
    {
     "data": {
      "text/plain": [
       "Index(['tweet_id', 'jpg_url', 'number_of_images', 'prediction_1',\n",
       "       'prediction_1_confidence', 'prediction_1_dog', 'prediction_2',\n",
       "       'prediction_2_confidence', 'prediction_2_dog', 'prediction_3',\n",
       "       'prediction_3_confidence', 'prediction_3_dog'],\n",
       "      dtype='object')"
      ]
     },
     "execution_count": 35,
     "metadata": {},
     "output_type": "execute_result"
    }
   ],
   "source": [
    "image_prediction_clean.columns"
   ]
  },
  {
   "cell_type": "markdown",
   "id": "8ac4e371",
   "metadata": {},
   "source": [
    "### Comparing the number of entries in the image prediction dataframe and the dog tweets dataframe, it is clear that some of the tweets have no corresponding image predictions in the image prediction dataframe.\n",
    "#### Define:\n",
    "Since there are fewer entries in the in the image prediction dataframe than in the dog tweet dataframe, it is evident that some of the dog tweets dont have image predictions. Since we have no means of obtaining the predictions, there is nothing we can do to address this issue."
   ]
  },
  {
   "cell_type": "markdown",
   "id": "e72aa1cb",
   "metadata": {},
   "source": [
    "## Tidiness issues"
   ]
  },
  {
   "cell_type": "markdown",
   "id": "8aea1b9f",
   "metadata": {},
   "source": [
    "## `Dog Tweet dataframe`"
   ]
  },
  {
   "cell_type": "markdown",
   "id": "a562b31a",
   "metadata": {},
   "source": [
    "### Timestamp column has two variable entries (Date & Time).\n",
    "#### Define:\n",
    "Separate the timestamp column to form the date column and the time columns\n",
    "> - first drop the '+0000' at the end of every entry\n",
    "> - since the date and time are separated using a space, separate them and assign the entry to the left to the date column and that in the right of the space to the time column"
   ]
  },
  {
   "cell_type": "markdown",
   "id": "b9dc4f38",
   "metadata": {},
   "source": [
    "#### code"
   ]
  },
  {
   "cell_type": "code",
   "execution_count": 36,
   "id": "4458de2c",
   "metadata": {},
   "outputs": [],
   "source": [
    "for stamp in tweet_clean.timestamp:\n",
    "    stamp = stamp[:-6]\n",
    "    tweet_clean['date'], tweet_clean['time'] = stamp.split(' ', 1)\n",
    "\n",
    "# Now, drop the old timestamp column\n",
    "tweet_clean.drop('timestamp', axis=1, inplace=True)"
   ]
  },
  {
   "cell_type": "markdown",
   "id": "f1137de6",
   "metadata": {},
   "source": [
    "#### Test"
   ]
  },
  {
   "cell_type": "code",
   "execution_count": 37,
   "id": "d23886b3",
   "metadata": {},
   "outputs": [
    {
     "data": {
      "text/plain": [
       "Index(['tweet_id', 'text', 'expanded_urls', 'rating_numerator',\n",
       "       'rating_denominator', 'name', 'doggo', 'floofer', 'pupper', 'puppo',\n",
       "       'source_name', 'source_url', 'date', 'time'],\n",
       "      dtype='object')"
      ]
     },
     "execution_count": 37,
     "metadata": {},
     "output_type": "execute_result"
    }
   ],
   "source": [
    "# Display the columns of the dataframe to check that the timestamp column has been created and that the date & time columns have been created\n",
    "tweet_clean.columns"
   ]
  },
  {
   "cell_type": "markdown",
   "id": "90a669f0",
   "metadata": {},
   "source": [
    "> Now that the timestamp has been separated as required, we can comfortably change the datatypes of the columns."
   ]
  },
  {
   "cell_type": "code",
   "execution_count": 38,
   "id": "20c17231",
   "metadata": {},
   "outputs": [
    {
     "name": "stdout",
     "output_type": "stream",
     "text": [
      "<class 'pandas.core.frame.DataFrame'>\n",
      "RangeIndex: 2356 entries, 0 to 2355\n",
      "Data columns (total 14 columns):\n",
      " #   Column              Non-Null Count  Dtype \n",
      "---  ------              --------------  ----- \n",
      " 0   tweet_id            2356 non-null   int64 \n",
      " 1   text                2356 non-null   object\n",
      " 2   expanded_urls       2356 non-null   object\n",
      " 3   rating_numerator    2356 non-null   int64 \n",
      " 4   rating_denominator  2356 non-null   int64 \n",
      " 5   name                2356 non-null   object\n",
      " 6   doggo               2356 non-null   object\n",
      " 7   floofer             2356 non-null   object\n",
      " 8   pupper              2356 non-null   object\n",
      " 9   puppo               2356 non-null   object\n",
      " 10  source_name         2356 non-null   object\n",
      " 11  source_url          2356 non-null   object\n",
      " 12  date                2356 non-null   object\n",
      " 13  time                2356 non-null   object\n",
      "dtypes: int64(3), object(11)\n",
      "memory usage: 257.8+ KB\n"
     ]
    }
   ],
   "source": [
    "tweet_clean.info()"
   ]
  },
  {
   "cell_type": "markdown",
   "id": "025a2fe3",
   "metadata": {},
   "source": [
    "#### code"
   ]
  },
  {
   "cell_type": "code",
   "execution_count": 39,
   "id": "5989563a",
   "metadata": {},
   "outputs": [],
   "source": [
    "# change date and time columns to type datetime\n",
    "tweet_clean.date = pd.to_datetime(tweet_clean.date)\n",
    "tweet_clean.time = pd.to_datetime(tweet_clean.time)"
   ]
  },
  {
   "cell_type": "markdown",
   "id": "13a95b7f",
   "metadata": {},
   "source": [
    "#### Test"
   ]
  },
  {
   "cell_type": "code",
   "execution_count": 40,
   "id": "fe7d95b6",
   "metadata": {},
   "outputs": [
    {
     "name": "stdout",
     "output_type": "stream",
     "text": [
      "<class 'pandas.core.frame.DataFrame'>\n",
      "RangeIndex: 2356 entries, 0 to 2355\n",
      "Data columns (total 14 columns):\n",
      " #   Column              Non-Null Count  Dtype         \n",
      "---  ------              --------------  -----         \n",
      " 0   tweet_id            2356 non-null   int64         \n",
      " 1   text                2356 non-null   object        \n",
      " 2   expanded_urls       2356 non-null   object        \n",
      " 3   rating_numerator    2356 non-null   int64         \n",
      " 4   rating_denominator  2356 non-null   int64         \n",
      " 5   name                2356 non-null   object        \n",
      " 6   doggo               2356 non-null   object        \n",
      " 7   floofer             2356 non-null   object        \n",
      " 8   pupper              2356 non-null   object        \n",
      " 9   puppo               2356 non-null   object        \n",
      " 10  source_name         2356 non-null   object        \n",
      " 11  source_url          2356 non-null   object        \n",
      " 12  date                2356 non-null   datetime64[ns]\n",
      " 13  time                2356 non-null   datetime64[ns]\n",
      "dtypes: datetime64[ns](2), int64(3), object(9)\n",
      "memory usage: 257.8+ KB\n"
     ]
    }
   ],
   "source": [
    "tweet_clean.info()"
   ]
  },
  {
   "cell_type": "markdown",
   "id": "900964ad",
   "metadata": {},
   "source": [
    "### source column has two variables (source name & source url).\n",
    "#### Define:\n",
    "This column contained two sets of data within the 'a' tags. However, when extracting the content of the 'a' tags, this tidiness issue was solved since the source name and the source url were extracted and put into different columns."
   ]
  },
  {
   "cell_type": "markdown",
   "id": "a36da0be",
   "metadata": {},
   "source": [
    "### Text column has four variables in the same column (The tweet, rating_numerator, rating_denominator, Tweet link). note: the tweet link in this column is similar to the link in the source column\n",
    "#### Define:\n",
    "We already have the rating denominator, the rating numerator, and the tweet link in separate clean columns. Therefore, to clean this column, we only need to extract the message and drop all other entries."
   ]
  },
  {
   "cell_type": "markdown",
   "id": "43c7bc9c",
   "metadata": {},
   "source": [
    "#### code"
   ]
  },
  {
   "cell_type": "code",
   "execution_count": 41,
   "id": "c77556aa",
   "metadata": {},
   "outputs": [],
   "source": [
    "# Drop the ulrs in every cell\n",
    "sep = '[0-9]'\n",
    "pattern  = sep + \".*\"\n",
    "for text in tweet_clean.text:\n",
    "    text = re.sub(pattern, '', text)   "
   ]
  },
  {
   "cell_type": "markdown",
   "id": "71808f41",
   "metadata": {},
   "source": [
    "#### test"
   ]
  },
  {
   "cell_type": "code",
   "execution_count": 42,
   "id": "3d66a47a",
   "metadata": {},
   "outputs": [],
   "source": [
    "# Assert that the links have been removed from the text. this should pass without an assertion error.\n",
    "for text in tweet_clean.text:\n",
    "    assert 'http'or 'https' not in tweet_clean.text"
   ]
  },
  {
   "cell_type": "markdown",
   "id": "a6b7bc1d",
   "metadata": {},
   "source": [
    "### The `doggo`, `floofer`, `pupper`, `puppo` should be variables under `affectionate_name` column\n",
    "#### Define\n",
    "combine the columns and separate the entries with a dash (-) then delete the word `None` to remain with the affectionate names only. Lastly, drop the old unwanted columns"
   ]
  },
  {
   "cell_type": "markdown",
   "id": "954deaa4",
   "metadata": {},
   "source": [
    "#### code"
   ]
  },
  {
   "cell_type": "code",
   "execution_count": 43,
   "id": "bdddc413",
   "metadata": {},
   "outputs": [],
   "source": [
    "tweet_clean[\"affectionate_name\"] = tweet_clean['doggo']+ '-' + tweet_clean['floofer'] + '-' + tweet_clean['pupper']+ '-' + tweet_clean['puppo']\n",
    "tweet_clean.affectionate_name = tweet_clean.affectionate_name.str.replace('None', '')\n",
    "tweet_clean.affectionate_name = tweet_clean.affectionate_name.str.strip('-')\n",
    "\n",
    "# Replace the empty entries of the affectionate_name column with the name (None)\n",
    "for name in tweet_clean.affectionate_name:\n",
    "    if name == '':\n",
    "        tweet_clean.affectionate_name = 'None'\n",
    "\n",
    "# Now drop the old columns\n",
    "tweet_clean.drop(['doggo', 'floofer', 'pupper', 'puppo'], axis=1, inplace=True)"
   ]
  },
  {
   "cell_type": "markdown",
   "id": "c4adc4b9",
   "metadata": {},
   "source": [
    "#### Test"
   ]
  },
  {
   "cell_type": "code",
   "execution_count": 44,
   "id": "fbdfa9b5",
   "metadata": {
    "scrolled": true
   },
   "outputs": [
    {
     "data": {
      "text/html": [
       "<div>\n",
       "<style scoped>\n",
       "    .dataframe tbody tr th:only-of-type {\n",
       "        vertical-align: middle;\n",
       "    }\n",
       "\n",
       "    .dataframe tbody tr th {\n",
       "        vertical-align: top;\n",
       "    }\n",
       "\n",
       "    .dataframe thead th {\n",
       "        text-align: right;\n",
       "    }\n",
       "</style>\n",
       "<table border=\"1\" class=\"dataframe\">\n",
       "  <thead>\n",
       "    <tr style=\"text-align: right;\">\n",
       "      <th></th>\n",
       "      <th>tweet_id</th>\n",
       "      <th>text</th>\n",
       "      <th>expanded_urls</th>\n",
       "      <th>rating_numerator</th>\n",
       "      <th>rating_denominator</th>\n",
       "      <th>name</th>\n",
       "      <th>source_name</th>\n",
       "      <th>source_url</th>\n",
       "      <th>date</th>\n",
       "      <th>time</th>\n",
       "      <th>affectionate_name</th>\n",
       "    </tr>\n",
       "  </thead>\n",
       "  <tbody>\n",
       "    <tr>\n",
       "      <th>0</th>\n",
       "      <td>892420643555336193</td>\n",
       "      <td>This is Phineas. He's a mystical boy. Only eve...</td>\n",
       "      <td>https://twitter.com/dogratingrating/status/667...</td>\n",
       "      <td>13</td>\n",
       "      <td>10</td>\n",
       "      <td>Phineas</td>\n",
       "      <td>Twitter for iPhone</td>\n",
       "      <td>http://twitter.com/download/iphone</td>\n",
       "      <td>2015-11-15</td>\n",
       "      <td>2022-06-28 22:32:08</td>\n",
       "      <td>None</td>\n",
       "    </tr>\n",
       "    <tr>\n",
       "      <th>1</th>\n",
       "      <td>892177421306343426</td>\n",
       "      <td>This is Tilly. She's just checking pup on you....</td>\n",
       "      <td>https://twitter.com/dogratingrating/status/667...</td>\n",
       "      <td>13</td>\n",
       "      <td>10</td>\n",
       "      <td>Tilly</td>\n",
       "      <td>Twitter for iPhone</td>\n",
       "      <td>http://twitter.com/download/iphone</td>\n",
       "      <td>2015-11-15</td>\n",
       "      <td>2022-06-28 22:32:08</td>\n",
       "      <td>None</td>\n",
       "    </tr>\n",
       "    <tr>\n",
       "      <th>2</th>\n",
       "      <td>891815181378084864</td>\n",
       "      <td>This is Archie. He is a rare Norwegian Pouncin...</td>\n",
       "      <td>https://twitter.com/dogratingrating/status/667...</td>\n",
       "      <td>12</td>\n",
       "      <td>10</td>\n",
       "      <td>Archie</td>\n",
       "      <td>Twitter for iPhone</td>\n",
       "      <td>http://twitter.com/download/iphone</td>\n",
       "      <td>2015-11-15</td>\n",
       "      <td>2022-06-28 22:32:08</td>\n",
       "      <td>None</td>\n",
       "    </tr>\n",
       "    <tr>\n",
       "      <th>3</th>\n",
       "      <td>891689557279858688</td>\n",
       "      <td>This is Darla. She commenced a snooze mid meal...</td>\n",
       "      <td>https://twitter.com/dogratingrating/status/667...</td>\n",
       "      <td>13</td>\n",
       "      <td>10</td>\n",
       "      <td>Darla</td>\n",
       "      <td>Twitter for iPhone</td>\n",
       "      <td>http://twitter.com/download/iphone</td>\n",
       "      <td>2015-11-15</td>\n",
       "      <td>2022-06-28 22:32:08</td>\n",
       "      <td>None</td>\n",
       "    </tr>\n",
       "    <tr>\n",
       "      <th>4</th>\n",
       "      <td>891327558926688256</td>\n",
       "      <td>This is Franklin. He would like you to stop ca...</td>\n",
       "      <td>https://twitter.com/dogratingrating/status/667...</td>\n",
       "      <td>12</td>\n",
       "      <td>10</td>\n",
       "      <td>Franklin</td>\n",
       "      <td>Twitter for iPhone</td>\n",
       "      <td>http://twitter.com/download/iphone</td>\n",
       "      <td>2015-11-15</td>\n",
       "      <td>2022-06-28 22:32:08</td>\n",
       "      <td>None</td>\n",
       "    </tr>\n",
       "  </tbody>\n",
       "</table>\n",
       "</div>"
      ],
      "text/plain": [
       "             tweet_id                                               text  \\\n",
       "0  892420643555336193  This is Phineas. He's a mystical boy. Only eve...   \n",
       "1  892177421306343426  This is Tilly. She's just checking pup on you....   \n",
       "2  891815181378084864  This is Archie. He is a rare Norwegian Pouncin...   \n",
       "3  891689557279858688  This is Darla. She commenced a snooze mid meal...   \n",
       "4  891327558926688256  This is Franklin. He would like you to stop ca...   \n",
       "\n",
       "                                       expanded_urls  rating_numerator  \\\n",
       "0  https://twitter.com/dogratingrating/status/667...                13   \n",
       "1  https://twitter.com/dogratingrating/status/667...                13   \n",
       "2  https://twitter.com/dogratingrating/status/667...                12   \n",
       "3  https://twitter.com/dogratingrating/status/667...                13   \n",
       "4  https://twitter.com/dogratingrating/status/667...                12   \n",
       "\n",
       "   rating_denominator      name         source_name  \\\n",
       "0                  10   Phineas  Twitter for iPhone   \n",
       "1                  10     Tilly  Twitter for iPhone   \n",
       "2                  10    Archie  Twitter for iPhone   \n",
       "3                  10     Darla  Twitter for iPhone   \n",
       "4                  10  Franklin  Twitter for iPhone   \n",
       "\n",
       "                           source_url       date                time  \\\n",
       "0  http://twitter.com/download/iphone 2015-11-15 2022-06-28 22:32:08   \n",
       "1  http://twitter.com/download/iphone 2015-11-15 2022-06-28 22:32:08   \n",
       "2  http://twitter.com/download/iphone 2015-11-15 2022-06-28 22:32:08   \n",
       "3  http://twitter.com/download/iphone 2015-11-15 2022-06-28 22:32:08   \n",
       "4  http://twitter.com/download/iphone 2015-11-15 2022-06-28 22:32:08   \n",
       "\n",
       "  affectionate_name  \n",
       "0              None  \n",
       "1              None  \n",
       "2              None  \n",
       "3              None  \n",
       "4              None  "
      ]
     },
     "execution_count": 44,
     "metadata": {},
     "output_type": "execute_result"
    }
   ],
   "source": [
    "# Display a sample of the dataframe to see the changes in the columns\n",
    "tweet_clean.head()"
   ]
  },
  {
   "cell_type": "code",
   "execution_count": 45,
   "id": "d4f5a81d",
   "metadata": {},
   "outputs": [
    {
     "name": "stdout",
     "output_type": "stream",
     "text": [
      "<class 'pandas.core.frame.DataFrame'>\n",
      "RangeIndex: 2356 entries, 0 to 2355\n",
      "Data columns (total 11 columns):\n",
      " #   Column              Non-Null Count  Dtype         \n",
      "---  ------              --------------  -----         \n",
      " 0   tweet_id            2356 non-null   int64         \n",
      " 1   text                2356 non-null   object        \n",
      " 2   expanded_urls       2356 non-null   object        \n",
      " 3   rating_numerator    2356 non-null   int64         \n",
      " 4   rating_denominator  2356 non-null   int64         \n",
      " 5   name                2356 non-null   object        \n",
      " 6   source_name         2356 non-null   object        \n",
      " 7   source_url          2356 non-null   object        \n",
      " 8   date                2356 non-null   datetime64[ns]\n",
      " 9   time                2356 non-null   datetime64[ns]\n",
      " 10  affectionate_name   2356 non-null   object        \n",
      "dtypes: datetime64[ns](2), int64(3), object(6)\n",
      "memory usage: 202.6+ KB\n"
     ]
    }
   ],
   "source": [
    "tweet_clean.info()"
   ]
  },
  {
   "cell_type": "markdown",
   "id": "d4d34567",
   "metadata": {},
   "source": [
    "## `Favourite counts & retweet counts dataframe`"
   ]
  },
  {
   "cell_type": "markdown",
   "id": "28aa24a4",
   "metadata": {},
   "source": [
    "### We do not need this table because the information it holds (favourite counts and retweet counts) should appear alongside each respective tweet in the dog tweet dataframe.\n",
    "#### Define:\n",
    "Combine/merge the reactions count dataframe to the tweet dataframe on the tweet id"
   ]
  },
  {
   "cell_type": "markdown",
   "id": "98dd1c4e",
   "metadata": {},
   "source": [
    "#### code"
   ]
  },
  {
   "cell_type": "code",
   "execution_count": 46,
   "id": "908218c9",
   "metadata": {},
   "outputs": [],
   "source": [
    "tweet_clean = pd.merge(tweet_clean, reaction_count_clean,\n",
    "                      on='tweet_id')"
   ]
  },
  {
   "cell_type": "markdown",
   "id": "747362a6",
   "metadata": {},
   "source": [
    "#### test"
   ]
  },
  {
   "cell_type": "code",
   "execution_count": 47,
   "id": "a2ecde0f",
   "metadata": {},
   "outputs": [
    {
     "data": {
      "text/html": [
       "<div>\n",
       "<style scoped>\n",
       "    .dataframe tbody tr th:only-of-type {\n",
       "        vertical-align: middle;\n",
       "    }\n",
       "\n",
       "    .dataframe tbody tr th {\n",
       "        vertical-align: top;\n",
       "    }\n",
       "\n",
       "    .dataframe thead th {\n",
       "        text-align: right;\n",
       "    }\n",
       "</style>\n",
       "<table border=\"1\" class=\"dataframe\">\n",
       "  <thead>\n",
       "    <tr style=\"text-align: right;\">\n",
       "      <th></th>\n",
       "      <th>tweet_id</th>\n",
       "      <th>text</th>\n",
       "      <th>expanded_urls</th>\n",
       "      <th>rating_numerator</th>\n",
       "      <th>rating_denominator</th>\n",
       "      <th>name</th>\n",
       "      <th>source_name</th>\n",
       "      <th>source_url</th>\n",
       "      <th>date</th>\n",
       "      <th>time</th>\n",
       "      <th>affectionate_name</th>\n",
       "      <th>retweet_count</th>\n",
       "      <th>favorite_count</th>\n",
       "    </tr>\n",
       "  </thead>\n",
       "  <tbody>\n",
       "    <tr>\n",
       "      <th>0</th>\n",
       "      <td>892420643555336193</td>\n",
       "      <td>This is Phineas. He's a mystical boy. Only eve...</td>\n",
       "      <td>https://twitter.com/dogratingrating/status/667...</td>\n",
       "      <td>13</td>\n",
       "      <td>10</td>\n",
       "      <td>Phineas</td>\n",
       "      <td>Twitter for iPhone</td>\n",
       "      <td>http://twitter.com/download/iphone</td>\n",
       "      <td>2015-11-15</td>\n",
       "      <td>2022-06-28 22:32:08</td>\n",
       "      <td>None</td>\n",
       "      <td>7009</td>\n",
       "      <td>33815</td>\n",
       "    </tr>\n",
       "    <tr>\n",
       "      <th>1</th>\n",
       "      <td>892177421306343426</td>\n",
       "      <td>This is Tilly. She's just checking pup on you....</td>\n",
       "      <td>https://twitter.com/dogratingrating/status/667...</td>\n",
       "      <td>13</td>\n",
       "      <td>10</td>\n",
       "      <td>Tilly</td>\n",
       "      <td>Twitter for iPhone</td>\n",
       "      <td>http://twitter.com/download/iphone</td>\n",
       "      <td>2015-11-15</td>\n",
       "      <td>2022-06-28 22:32:08</td>\n",
       "      <td>None</td>\n",
       "      <td>5302</td>\n",
       "      <td>29320</td>\n",
       "    </tr>\n",
       "    <tr>\n",
       "      <th>2</th>\n",
       "      <td>891815181378084864</td>\n",
       "      <td>This is Archie. He is a rare Norwegian Pouncin...</td>\n",
       "      <td>https://twitter.com/dogratingrating/status/667...</td>\n",
       "      <td>12</td>\n",
       "      <td>10</td>\n",
       "      <td>Archie</td>\n",
       "      <td>Twitter for iPhone</td>\n",
       "      <td>http://twitter.com/download/iphone</td>\n",
       "      <td>2015-11-15</td>\n",
       "      <td>2022-06-28 22:32:08</td>\n",
       "      <td>None</td>\n",
       "      <td>3481</td>\n",
       "      <td>22050</td>\n",
       "    </tr>\n",
       "    <tr>\n",
       "      <th>3</th>\n",
       "      <td>891689557279858688</td>\n",
       "      <td>This is Darla. She commenced a snooze mid meal...</td>\n",
       "      <td>https://twitter.com/dogratingrating/status/667...</td>\n",
       "      <td>13</td>\n",
       "      <td>10</td>\n",
       "      <td>Darla</td>\n",
       "      <td>Twitter for iPhone</td>\n",
       "      <td>http://twitter.com/download/iphone</td>\n",
       "      <td>2015-11-15</td>\n",
       "      <td>2022-06-28 22:32:08</td>\n",
       "      <td>None</td>\n",
       "      <td>7219</td>\n",
       "      <td>36903</td>\n",
       "    </tr>\n",
       "    <tr>\n",
       "      <th>4</th>\n",
       "      <td>891327558926688256</td>\n",
       "      <td>This is Franklin. He would like you to stop ca...</td>\n",
       "      <td>https://twitter.com/dogratingrating/status/667...</td>\n",
       "      <td>12</td>\n",
       "      <td>10</td>\n",
       "      <td>Franklin</td>\n",
       "      <td>Twitter for iPhone</td>\n",
       "      <td>http://twitter.com/download/iphone</td>\n",
       "      <td>2015-11-15</td>\n",
       "      <td>2022-06-28 22:32:08</td>\n",
       "      <td>None</td>\n",
       "      <td>7762</td>\n",
       "      <td>35311</td>\n",
       "    </tr>\n",
       "  </tbody>\n",
       "</table>\n",
       "</div>"
      ],
      "text/plain": [
       "             tweet_id                                               text  \\\n",
       "0  892420643555336193  This is Phineas. He's a mystical boy. Only eve...   \n",
       "1  892177421306343426  This is Tilly. She's just checking pup on you....   \n",
       "2  891815181378084864  This is Archie. He is a rare Norwegian Pouncin...   \n",
       "3  891689557279858688  This is Darla. She commenced a snooze mid meal...   \n",
       "4  891327558926688256  This is Franklin. He would like you to stop ca...   \n",
       "\n",
       "                                       expanded_urls  rating_numerator  \\\n",
       "0  https://twitter.com/dogratingrating/status/667...                13   \n",
       "1  https://twitter.com/dogratingrating/status/667...                13   \n",
       "2  https://twitter.com/dogratingrating/status/667...                12   \n",
       "3  https://twitter.com/dogratingrating/status/667...                13   \n",
       "4  https://twitter.com/dogratingrating/status/667...                12   \n",
       "\n",
       "   rating_denominator      name         source_name  \\\n",
       "0                  10   Phineas  Twitter for iPhone   \n",
       "1                  10     Tilly  Twitter for iPhone   \n",
       "2                  10    Archie  Twitter for iPhone   \n",
       "3                  10     Darla  Twitter for iPhone   \n",
       "4                  10  Franklin  Twitter for iPhone   \n",
       "\n",
       "                           source_url       date                time  \\\n",
       "0  http://twitter.com/download/iphone 2015-11-15 2022-06-28 22:32:08   \n",
       "1  http://twitter.com/download/iphone 2015-11-15 2022-06-28 22:32:08   \n",
       "2  http://twitter.com/download/iphone 2015-11-15 2022-06-28 22:32:08   \n",
       "3  http://twitter.com/download/iphone 2015-11-15 2022-06-28 22:32:08   \n",
       "4  http://twitter.com/download/iphone 2015-11-15 2022-06-28 22:32:08   \n",
       "\n",
       "  affectionate_name  retweet_count  favorite_count  \n",
       "0              None           7009           33815  \n",
       "1              None           5302           29320  \n",
       "2              None           3481           22050  \n",
       "3              None           7219           36903  \n",
       "4              None           7762           35311  "
      ]
     },
     "execution_count": 47,
     "metadata": {},
     "output_type": "execute_result"
    }
   ],
   "source": [
    "tweet_clean.head()"
   ]
  },
  {
   "cell_type": "markdown",
   "id": "d739bcf2",
   "metadata": {},
   "source": [
    "# Storing Data"
   ]
  },
  {
   "cell_type": "code",
   "execution_count": 48,
   "id": "4e5bc39c",
   "metadata": {},
   "outputs": [],
   "source": [
    "# Check the if the required folder exists. If it does not exist, create it\n",
    "folder_name = 'Datasets/Clean_data'\n",
    "if not os.path.exists (folder_name):\n",
    "    os.makedirs(folder_name)\n",
    "    \n",
    "tweet_clean.to_csv('Datasets/Clean_data/twitter_archive_master.csv', index=False)\n",
    "image_prediction_clean.to_csv('Datasets/Clean_data/image_prediction_master.csv', index=False)"
   ]
  },
  {
   "cell_type": "markdown",
   "id": "b15cf6a1",
   "metadata": {},
   "source": [
    "# Analyzing and Visualizing Data"
   ]
  },
  {
   "cell_type": "code",
   "execution_count": null,
   "id": "da78b92d",
   "metadata": {},
   "outputs": [],
   "source": []
  }
 ],
 "metadata": {
  "kernelspec": {
   "display_name": "Python 3 (ipykernel)",
   "language": "python",
   "name": "python3"
  },
  "language_info": {
   "codemirror_mode": {
    "name": "ipython",
    "version": 3
   },
   "file_extension": ".py",
   "mimetype": "text/x-python",
   "name": "python",
   "nbconvert_exporter": "python",
   "pygments_lexer": "ipython3",
   "version": "3.9.12"
  }
 },
 "nbformat": 4,
 "nbformat_minor": 5
}
